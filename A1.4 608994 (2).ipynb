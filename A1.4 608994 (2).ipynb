{
 "cells": [
  {
   "cell_type": "markdown",
   "id": "b2deef5e",
   "metadata": {
    "id": "408208b0"
   },
   "source": [
    "# A1.4 Selección de características\n",
    "\n"
   ]
  },
  {
   "cell_type": "markdown",
   "id": "f48a588b-88ec-4da5-9847-a0cfdff66490",
   "metadata": {
    "id": "0c1ac701"
   },
   "source": [
    "Andrés Luna de la Garza #608994\n",
    "<br><br>\n"
   ]
  },
  {
   "cell_type": "markdown",
   "id": "4bf3c8cf-07b6-4000-afec-49bc65735b15",
   "metadata": {
    "id": "0c1ac701"
   },
   "source": [
    "<br><br>\n",
    "1. Importa los datos del archivo “Vino Tinto.csv” a tu ambiente de trabajo. Este archivo lo encontrarás en la misma página donde descargaste esta plantilla. Revisa las dimensiones del data frame e imprime en consola tanto dichas dimensiones como las primeras 5 filas de datos. <br><br>"
   ]
  },
  {
   "cell_type": "code",
   "execution_count": 83,
   "id": "137010b7-bf76-4cb9-aa3a-d4d2f7de4de2",
   "metadata": {
    "scrolled": true
   },
   "outputs": [
    {
     "name": "stdout",
     "output_type": "stream",
     "text": [
      "El tamaño de la base de datos es de  (1599, 12)\n",
      " \n",
      "Los nombres de las variables son  Index(['acidezFija', 'acidezVolatil', 'acidoCitrico', 'azucarResidual',\n",
      "       'cloruros', 'dioxidoAzufreLibre', 'dioxidoAzufreTotal', 'densidad',\n",
      "       'pH', 'sulfatos', 'alcohol', 'calidad'],\n",
      "      dtype='object')\n",
      " \n",
      "A continuación se encuentran las primeras 15 filas de datos\n",
      " \n",
      "   acidezFija  acidezVolatil  acidoCitrico  azucarResidual  cloruros  \\\n",
      "0         7.4           0.70          0.00             1.9     0.076   \n",
      "1         7.8           0.88          0.00             2.6     0.098   \n",
      "2         7.8           0.76          0.04             2.3     0.092   \n",
      "3        11.2           0.28          0.56             1.9     0.075   \n",
      "4         7.4           0.70          0.00             1.9     0.076   \n",
      "\n",
      "   dioxidoAzufreLibre  dioxidoAzufreTotal  densidad    pH  sulfatos  alcohol  \\\n",
      "0                11.0                34.0    0.9978  3.51      0.56      9.4   \n",
      "1                25.0                67.0    0.9968  3.20      0.68      9.8   \n",
      "2                15.0                54.0    0.9970  3.26      0.65      9.8   \n",
      "3                17.0                60.0    0.9980  3.16      0.58      9.8   \n",
      "4                11.0                34.0    0.9978  3.51      0.56      9.4   \n",
      "\n",
      "   calidad  \n",
      "0        5  \n",
      "1        5  \n",
      "2        5  \n",
      "3        6  \n",
      "4        5  \n"
     ]
    }
   ],
   "source": [
    "import pandas as pd\n",
    "data = pd.read_csv(\"A1.4 Vino Tinto.csv\")\n",
    "print(\"El tamaño de la base de datos es de \", data.shape)\n",
    "print(\" \")\n",
    "print(\"Los nombres de las variables son \", data.columns)\n",
    "print(\" \")\n",
    "print(\"A continuación se encuentran las primeras 15 filas de datos\")\n",
    "print(\" \")\n",
    "print(data.head())\n",
    "\n",
    "#En este paso primero se importó la librería pandas, luego se realizó la lectura del archivo y el almacenamiento la información en la variable data.\n",
    "#Después con la función de data.shape se muestra el tamaño de la base de datos y data.columns el nombre de las variables y se imprimen las primeras 5 filas de datos"
   ]
  },
  {
   "cell_type": "markdown",
   "id": "e1806076",
   "metadata": {
    "id": "0c1ac701"
   },
   "source": [
    "<br><br>\n",
    "2. Separa el data frame en datos de entrenamiento y datos de prueba con una proporción 80/20. Es decir, el 80% de los datos se usarán para entrenar el modelo y el resto para validar sus resultados. Asegúrate que la partición sea aleatoria, no es una buena práctica simplemente tomar las primeras observaciones para entrenar y las últimas para probar. Imprime en pantalla las dimensiones de ambos conjuntos de datos. Revisa y asegúrate que la cantidad de observaciones de ambos conjuntos de datos sumen a la cantidad de datos original.\n",
    " <br><br>"
   ]
  },
  {
   "cell_type": "code",
   "execution_count": 92,
   "id": "b80b3617-7c05-4b49-87e0-a4822bfa9f98",
   "metadata": {},
   "outputs": [
    {
     "name": "stdout",
     "output_type": "stream",
     "text": [
      "Train:  (1279, 12)\n",
      "Test:  (320, 12)\n",
      "      acidezFija  acidezVolatil  acidoCitrico  azucarResidual  cloruros  \\\n",
      "1024         7.7           0.58          0.01             1.8     0.088   \n",
      "499          8.7           0.69          0.31             3.0     0.086   \n",
      "343         10.9           0.39          0.47             1.8     0.118   \n",
      "438         10.4           0.41          0.55             3.2     0.076   \n",
      "649          6.7           0.42          0.27             8.6     0.068   \n",
      "\n",
      "      dioxidoAzufreLibre  dioxidoAzufreTotal  densidad    pH  sulfatos  \\\n",
      "1024                12.0                18.0   0.99568  3.32      0.56   \n",
      "499                 23.0                81.0   1.00020  3.48      0.74   \n",
      "343                  6.0                14.0   0.99820  3.30      0.75   \n",
      "438                 22.0                54.0   0.99960  3.15      0.89   \n",
      "649                 24.0               148.0   0.99480  3.16      0.57   \n",
      "\n",
      "      alcohol  calidad  \n",
      "1024     10.5        7  \n",
      "499      11.6        6  \n",
      "343       9.8        6  \n",
      "438       9.9        6  \n",
      "649      11.3        6  \n",
      " \n",
      "Comprobación:  1279 + 320 == 1599\n"
     ]
    }
   ],
   "source": [
    "train = data.sample(frac= 0.8)\n",
    "test= data.drop(train.index)\n",
    "print(\"Train: \", train.shape)\n",
    "print(\"Test: \", test.shape)\n",
    "print(train.head())\n",
    "print(\" \")\n",
    "print(\"Comprobación: \",train.shape[0], \"+\", test.shape[0], \"==\", train.shape[0]+test.shape[0])\n",
    "#Aquí se generaron los datos de entrenamiento respetando el 80% de datos y también los datos de validación\n",
    "#También, se imprimieron las dimensiones de cada conjuntos de datos y se confirma que sumen a la cantida de datos originales"
   ]
  },
  {
   "cell_type": "markdown",
   "id": "a33f080a-c34f-4d16-8fef-9352afae468d",
   "metadata": {
    "id": "0c1ac701"
   },
   "source": [
    "<br><br>3. Genera la metodología de selección hacia adelante e imprime en consola los índices o\n",
    "los nombres de las características seleccionadas.\n",
    "<br><br>"
   ]
  },
  {
   "cell_type": "code",
   "execution_count": 103,
   "id": "1426b8b1-6c6e-4d85-b9e2-ff8e4e721162",
   "metadata": {
    "id": "f58355e4"
   },
   "outputs": [
    {
     "name": "stdout",
     "output_type": "stream",
     "text": [
      "Variables seleccionadas en forward: ('acidezVolatil', 'acidoCitrico', 'cloruros', 'dioxidoAzufreTotal', 'sulfatos', 'alcohol')\n"
     ]
    }
   ],
   "source": [
    "import mlxtend.feature_selection as mf\n",
    "from sklearn.linear_model import Lasso\n",
    "from sklearn.metrics import r2_score\n",
    "\n",
    "Xtrain= train.drop(\"calidad\", axis=1)\n",
    "ytrain= train[\"calidad\"]\n",
    "Xtest= test.drop(\"calidad\", axis=1)\n",
    "ytest= test[\"calidad\"]\n",
    "lasso= Lasso(alpha=0.01, max_iter=10000)\n",
    "sfsf= SFS(lasso, k_features=(2,8), forward=True, floating=False, scoring='r2',cv=10)\n",
    "sfsf= sfsf.fit(Xtrain, ytrain)\n",
    "print(\"Variables seleccionadas en forward:\", sfsf.k_feature_names_)\n",
    "\n",
    "#En esta sección se importan las librerías y funciones necesarias para lo que se pide\n",
    "#También, se separan las variables predictoras y se define el modelo lasso\n",
    "#Después, se implementa el método de selección forward y se imprimen las variables seleccionadas"
   ]
  },
  {
   "cell_type": "markdown",
   "id": "5fb95976",
   "metadata": {
    "id": "21d55c2e"
   },
   "source": [
    "<br><br>4. Entrenar un modelo que solamente contenga las variables seleccionadas, predecir la respuesta en las observaciones de prueba y medir la capacidad de predicción del modelo usando la R cuadrada, imprimiendo dicho valor en consola. Para el primer paso, simplemente necesitas usar la función fit en el modelo de regresión lineal creado previamente, asegurándote de no introducir toda la información de X, sino solo de las variables seleccionadas. Para realizar las predicciones, puedes usar la función predict en los datos de prueba, pero recuerda para dichos datos también seleccionar solo las variables de interés. Para el último paso, te recomiendo usar la función r2_score de sklearn.metrics.\n"
   ]
  },
  {
   "cell_type": "code",
   "execution_count": 114,
   "id": "6d3ac4cd",
   "metadata": {
    "id": "fb1387c9"
   },
   "outputs": [
    {
     "name": "stdout",
     "output_type": "stream",
     "text": [
      "R^2 del modelo en forward: 0.30980910108670345\n"
     ]
    }
   ],
   "source": [
    "seleccionadosforward = [Xtrain.columns[i] for i in sfsf.k_feature_idx_]\n",
    "lasso.fit(Xtrain[seleccionadosforward], ytrain)\n",
    "ypredforward = lasso.predict(Xtest[seleccionadosforward])\n",
    "r2f= r2_score(ytest, ypredforward)\n",
    "print(\"R^2 del modelo en forward:\", r2f)\n",
    "#Para este, se obtienen las variables seleccionadas del método forward a traves de la lista de índices de caracteristicas elegidas\n",
    "#Luego, se entrena el modelo lasso con las variables\n",
    "#Después se generan las predicciones del modelo y se calcula el R2 comparando las predicciones con los valores reales del test"
   ]
  },
  {
   "cell_type": "markdown",
   "id": "0afc0b98-9d32-49f5-a572-ea2583364611",
   "metadata": {
    "id": "0c1ac701"
   },
   "source": [
    "<br><br>5. Realizar un proceso de selección hacia atrás a partir de las variables seleccionadas por el método de selección hacia adelante e imprimir en consola los índices o nombres de las variables seleccionadas. Para realizar este proceso, te recomiendo usar la misma función del paso 3, pero definiendo ahora forward=False. También te recomiendo especificar una\n",
    "menor cantidad de variables posibles, por ejemplo: k_features=(2,5).\n",
    "\n",
    "<br><br>"
   ]
  },
  {
   "cell_type": "code",
   "execution_count": 115,
   "id": "b02b2922-dc06-4695-9368-93bd389c534f",
   "metadata": {},
   "outputs": [
    {
     "name": "stdout",
     "output_type": "stream",
     "text": [
      "Variables seleccionadas en backward: ('acidezVolatil', 'acidoCitrico', 'cloruros', 'densidad', 'alcohol')\n"
     ]
    }
   ],
   "source": [
    "sfsb= SFS(lasso, k_features=(2,5), forward=False, floating=False, scoring='r2', cv=10)\n",
    "sfsb= sfsb.fit(Xtrain, y_train)\n",
    "print(\"Variables seleccionadas en backward:\", sfsb.k_feature_names_)\n",
    "seleccionadosbackward = [Xtrain.columns[i] for i in sfsb.k_feature_idx_]\n",
    "lasso.fit(X_train[seleccionadosbackward], ytrain)\n",
    "ypredbackward = lasso.predict(Xtest[seleccionadosbackward])\n",
    "r2b= r2_score(ytest, ypredbackward)\n",
    "#Aquí se define el SFS par ala seleccion de variables en backward\n",
    "#Posteriormente se ajusta el selector de características y se obtiene la lista de columnas seleccionadas\n",
    "#Después se ajusta el modelo lasso y se generan las predicciones sobre los datos\n",
    "#Finalmente se obtiene el valor de R2"
   ]
  },
  {
   "cell_type": "markdown",
   "id": "19097918-c760-488b-badb-635978cf0aef",
   "metadata": {
    "id": "0c1ac701"
   },
   "source": [
    "<br><br>6. Repetir el paso 4, pero para un modelo que contenga solamente las variables\n",
    "seleccionadas en el paso 5. Imprime en pantalla un breve texto que describa tu opinión\n",
    "sobre la diferencia en R cuadrada medida entre los modelos de los pasos 4 y 6, ¿cuál\n",
    "modelo consideras que es mejor? ¿Por qué?\n",
    "<br><br>"
   ]
  },
  {
   "cell_type": "code",
   "execution_count": 118,
   "id": "a5d6181a-2d61-42bf-87bf-5392cab22d01",
   "metadata": {},
   "outputs": [
    {
     "name": "stdout",
     "output_type": "stream",
     "text": [
      "R^2 del modelo al usar las variables seleccionadas del paso 5: 0.2610641339416535\n",
      " \n",
      "En esta iteración se obtuvieron valores diferentes de R^2: el modelo con selección hacia adelante alcanzó un R^2 de 0.3098,\n",
      "mientras que el modelo con selección hacia atrás obtuvo 0.2611. Dicho esto, el modelo forward presentó un mejor desempeño,\n",
      "por lo que se considera la mejor opción, ya que explica una mayor proporción de la variabilidad de los datos en comparación con el modelo backward.\n"
     ]
    }
   ],
   "source": [
    "lasso.fit(Xtrain[seleccionadosbackward], ytrain)\n",
    "ypredbackward = lasso.predict(Xtest[seleccionadosbackward])\n",
    "r2b = r2_score(ytest, ypredbackward)\n",
    "\n",
    "print(\"R^2 del modelo al usar las variables seleccionadas del paso 5:\", r2_backward)\n",
    "print(\" \")\n",
    "print(\"En esta iteración se obtuvieron valores diferentes de R^2: el modelo con selección hacia adelante alcanzó un R^2 de 0.3098,\")\n",
    "print(\"mientras que el modelo con selección hacia atrás obtuvo 0.2611. Dicho esto, el modelo forward presentó un mejor desempeño,\")\n",
    "print(\"por lo que se considera la mejor opción, ya que explica una mayor proporción de la variabilidad de los datos en comparación con el modelo backward.\")\n",
    "#En esta sección se repite el proceso del paso 4 con las variables obtenidas y se realiza la comparación entre las R^2\n",
    "#Se imprime el comentario sobre la diferencia de R^2"
   ]
  },
  {
   "cell_type": "markdown",
   "id": "a7557d3d",
   "metadata": {
    "id": "db935525"
   },
   "source": [
    "<br><br>Código de Honor: Yo, Andrés Luna de la Garza, doy mi palabra que he realizado esta actividad con integridad académica"
   ]
  }
 ],
 "metadata": {
  "colab": {
   "provenance": []
  },
  "kernelspec": {
   "display_name": "Python 3 (ipykernel)",
   "language": "python",
   "name": "python3"
  },
  "language_info": {
   "codemirror_mode": {
    "name": "ipython",
    "version": 3
   },
   "file_extension": ".py",
   "mimetype": "text/x-python",
   "name": "python",
   "nbconvert_exporter": "python",
   "pygments_lexer": "ipython3",
   "version": "3.13.5"
  }
 },
 "nbformat": 4,
 "nbformat_minor": 5
}
